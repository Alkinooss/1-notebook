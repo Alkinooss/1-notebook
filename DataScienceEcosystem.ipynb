{
 "cells": [
  {
   "cell_type": "markdown",
   "id": "d8df2bd5-3a05-4112-aa1d-d683ae9c9f5e",
   "metadata": {},
   "source": [
    "# Data Science Tools and Ecosystem"
   ]
  },
  {
   "cell_type": "markdown",
   "id": "eeb18d24-37aa-433f-8dab-48c54c2eadf2",
   "metadata": {},
   "source": [
    "In this notebook, Data Science Tools and Ecosystem are summarized"
   ]
  },
  {
   "cell_type": "markdown",
   "id": "7f79da20-4dfe-4ee9-adfe-06895b554917",
   "metadata": {},
   "source": [
    "Some of the popular languages that Data Scientists use are:\n",
    "1. Python\n",
    "2. R\n",
    "3. SQL"
   ]
  },
  {
   "cell_type": "markdown",
   "id": "3cd394bf-d5fe-4be9-a95b-75558b803422",
   "metadata": {},
   "source": [
    "Some of the commonly used libraries used by Data Scientists include:\n",
    "1. NumPy\n",
    "2. Pandas\n",
    "3. Matplotlib\n",
    "4. Shikit-learn"
   ]
  },
  {
   "cell_type": "markdown",
   "id": "4b43bf8a-1b04-4274-91f3-b23d9e1739a2",
   "metadata": {},
   "source": [
    "| Data Science Tools |\n",
    "| --- |\n",
    "|Jupyter Notebook |\n",
    "| RStudio |\n",
    "| Spyder |"
   ]
  },
  {
   "cell_type": "markdown",
   "id": "16ab542d-a06d-462d-b411-a3de30d227d9",
   "metadata": {},
   "source": [
    "### Below are a few examples of evaluating arythmetinc expressions in Python"
   ]
  },
  {
   "cell_type": "markdown",
   "id": "d0ba9e4d-5817-4e86-ba17-56cb3a07b4eb",
   "metadata": {},
   "source": [
    "This is a simple arithmetic expression to multiply and then add integers"
   ]
  },
  {
   "cell_type": "code",
   "execution_count": 1,
   "id": "4e18adde-6f97-4771-8bf5-5c9f53b26326",
   "metadata": {},
   "outputs": [
    {
     "data": {
      "text/plain": [
       "17"
      ]
     },
     "execution_count": 1,
     "metadata": {},
     "output_type": "execute_result"
    }
   ],
   "source": [
    "(3*4)+5"
   ]
  },
  {
   "cell_type": "markdown",
   "id": "de472905-a19d-40fd-bb5b-4258f1b0d79d",
   "metadata": {},
   "source": [
    "This will convert 200 to hours by dividing"
   ]
  },
  {
   "cell_type": "code",
   "execution_count": 2,
   "id": "3c941976-6e1f-4cb6-bbba-0803da55e040",
   "metadata": {},
   "outputs": [
    {
     "data": {
      "text/plain": [
       "3.3333333333333335"
      ]
     },
     "execution_count": 2,
     "metadata": {},
     "output_type": "execute_result"
    }
   ],
   "source": [
    "200/60"
   ]
  },
  {
   "cell_type": "markdown",
   "id": "49de689e-2a8a-450a-91ff-900cd8b30005",
   "metadata": {},
   "source": [
    "***Objectives:***\n",
    "- List of popoular languages that Data Scientists use\n",
    "- List of commonly  used libraries used by Data Scientists\n",
    "- Data Science Tools\n",
    "- Arithmetic expression to multiply and then to add integers"
   ]
  },
  {
   "cell_type": "markdown",
   "id": "2b39d310-c557-4cfe-9959-dac7443a7629",
   "metadata": {},
   "source": [
    "## Author\n",
    "Alkis"
   ]
  }
 ],
 "metadata": {
  "kernelspec": {
   "display_name": "Python 3 (ipykernel)",
   "language": "python",
   "name": "python3"
  },
  "language_info": {
   "codemirror_mode": {
    "name": "ipython",
    "version": 3
   },
   "file_extension": ".py",
   "mimetype": "text/x-python",
   "name": "python",
   "nbconvert_exporter": "python",
   "pygments_lexer": "ipython3",
   "version": "3.11.7"
  }
 },
 "nbformat": 4,
 "nbformat_minor": 5
}
